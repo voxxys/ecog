{
 "cells": [
  {
   "cell_type": "code",
   "execution_count": 135,
   "metadata": {},
   "outputs": [],
   "source": [
    "import numpy as np\n",
    "\n",
    "import matplotlib.pyplot as plt\n",
    "\n",
    "from sklearn.preprocessing import MinMaxScaler\n",
    "\n",
    "from scipy.io import loadmat\n",
    "\n",
    "from sklearn.model_selection import train_test_split\n",
    "from sklearn import svm\n",
    "\n",
    "from sklearn.metrics import confusion_matrix\n",
    "\n",
    "import pylab\n",
    "\n",
    "def imagesc(x):\n",
    "    plt.imshow(x,extent = [0,1,0,1])\n",
    "\n",
    "%matplotlib inline\n",
    "plt.rcParams['figure.figsize'] = [20, 10]"
   ]
  },
  {
   "cell_type": "code",
   "execution_count": 136,
   "metadata": {},
   "outputs": [],
   "source": [
    "name_prefix = 'pol_van_co_16_left_step4herz' # to save figures\n",
    "\n",
    "matfile_path ='co_van_16_left_step4herz.mat'\n",
    "matfile = loadmat(matfile_path)\n",
    "\n",
    "ecog_trials = matfile['ecog_trials']\n",
    "feat_trials = matfile['feat_trials']\n",
    "posX_trials = matfile['posX_trials']\n",
    "posY_trials = matfile['posY_trials']\n",
    "par_trials = matfile['par_trials'][0]\n",
    "\n",
    "del matfile"
   ]
  },
  {
   "cell_type": "code",
   "execution_count": 137,
   "metadata": {},
   "outputs": [
    {
     "name": "stdout",
     "output_type": "stream",
     "text": [
      "[18, 70, 122, 174, 226, 278, 330, 382, 434, 486, 538, 590, 642, 694, 746, 798, 850, 902, 954, 1006]\n"
     ]
    }
   ],
   "source": [
    "srate = 2048\n",
    "\n",
    "numch_ecog = ecog_trials[0].shape[1]\n",
    "fbandmins_len = feat_trials[0].shape[1]//numch_ecog\n",
    "\n",
    "ch_idxs_motor = [18,19,20,21,48,49,50,51]\n",
    "#ch_idxs_chosen = [0]\n",
    "ch_idxs_chosen = [ch_idxs_motor[0]]\n",
    "\n",
    "ch_idxs_all_chosen = []\n",
    "\n",
    "for c in ch_idxs_chosen:\n",
    "    feat_idxs_all = [c + numch_ecog*i for i in range(fbandmins_len)]\n",
    "    for f in feat_idxs_all:\n",
    "        ch_idxs_all_chosen.append(f)\n",
    "ch_idxs_all_chosen.sort()\n",
    "#ch_idxs_all_motor = ch_idxs_all_motor[-16:]\n",
    "print(ch_idxs_all_chosen)"
   ]
  },
  {
   "cell_type": "code",
   "execution_count": 138,
   "metadata": {},
   "outputs": [
    {
     "name": "stdout",
     "output_type": "stream",
     "text": [
      "[   0  256  512  768 1024 1280 1536 1792 2048 2304 2560 2816 3072 3328\n",
      " 3584 3840 4096 4352 4608 4864]\n",
      "[ 512  768 1024 1280 1536 1792 2048 2304 2560 2816 3072 3328 3584 3840\n",
      " 4096 4352 4608 4864 5120 5376]\n"
     ]
    }
   ],
   "source": [
    "step_div = 8\n",
    "\n",
    "num_w = int(2.5*step_div)\n",
    "\n",
    "win_starts = np.arange(num_w)*srate//step_div\n",
    "print(win_starts)\n",
    "\n",
    "win_ends = win_starts + srate//4\n",
    "print(win_ends)"
   ]
  },
  {
   "cell_type": "code",
   "execution_count": null,
   "metadata": {},
   "outputs": [
    {
     "name": "stdout",
     "output_type": "stream",
     "text": [
      "c = \n",
      "18\n",
      "c = \n",
      "70\n",
      "c = \n",
      "122\n",
      "c = \n",
      "174\n",
      "c = \n",
      "226\n"
     ]
    }
   ],
   "source": [
    "numch_feat = feat_trials.shape[-1] \n",
    "cms_allch = np.zeros([len(ch_idxs_all_chosen),num_w,8,8])\n",
    "\n",
    "kk = 0\n",
    "for ch_idxs_chosen in ch_idxs_all_chosen:\n",
    "\n",
    "    cms = np.zeros([num_w,8,8])\n",
    "\n",
    "    for w in range(len(win_starts)):\n",
    "\n",
    "        feat_trials_red = [feat_trials[i][win_starts[w]:win_ends[w]:128,ch_idxs_chosen].T for i in range(len(feat_trials))]\n",
    "\n",
    "        feat_trials_red_flat = [feat_trials_red[i].reshape(-1) for i in range(len(feat_trials))]\n",
    "        feat_trials_red_flat = np.array(feat_trials_red_flat)\n",
    "\n",
    "        #print(feat_trials_red_flat.shape)\n",
    "\n",
    "        # find optimal C\n",
    "        #Cc_list = [50, 100, 200, 500, 1000, 2000, 5000, 10000, 20000, 50000, 100000, 200000]\n",
    "\n",
    "        Cc_list = [10000, 50000, 100000]\n",
    "\n",
    "        Cc_scores = np.zeros(len(Cc_list))\n",
    "\n",
    "        numit = 500\n",
    "\n",
    "        k = 0\n",
    "        for Cc in Cc_list:\n",
    "\n",
    "            scores = np.zeros(numit)\n",
    "\n",
    "            res_true = []\n",
    "            res_pred = []\n",
    "\n",
    "            for it in range(500):\n",
    "                X_train, X_test, y_train, y_test = train_test_split(feat_trials_red_flat, par_trials, test_size=0.2)\n",
    "\n",
    "                clf =  svm.SVC(kernel='rbf', C = Cc, shrinking = True).fit(X_train, y_train)\n",
    "\n",
    "                scores[it] = clf.score(X_test, y_test)\n",
    "\n",
    "                pred = clf.predict(X_test)\n",
    "                res_pred.append(pred)\n",
    "                res_true.append(y_test)\n",
    "\n",
    "            #plt.hist(scores)\n",
    "\n",
    "            #print(Cc)\n",
    "            #print(np.mean(scores))\n",
    "            Cc_scores[k] = np.mean(scores)\n",
    "\n",
    "            k = k+1\n",
    "\n",
    "\n",
    "        # use best C to build the classifier\n",
    "        best_Cc_idx = np.argmax(Cc_scores)\n",
    "\n",
    "        Cc = Cc_list[best_Cc_idx]\n",
    "\n",
    "        scores = np.zeros(numit)\n",
    "\n",
    "        res_true = []\n",
    "        res_pred = []\n",
    "\n",
    "        for it in range(500):\n",
    "            X_train, X_test, y_train, y_test = train_test_split(feat_trials_red_flat, par_trials, test_size=0.2, stratify=par_trials)\n",
    "\n",
    "            clf =  svm.SVC(kernel='rbf', C = Cc, shrinking = True).fit(X_train, y_train)\n",
    "\n",
    "            scores[it] = clf.score(X_test, y_test)\n",
    "\n",
    "            pred = clf.predict(X_test)\n",
    "            res_pred.append(pred)\n",
    "            res_true.append(y_test)\n",
    "\n",
    "        #print(Cc)\n",
    "        #print(np.mean(scores))\n",
    "\n",
    "\n",
    "        # draw and save confusion matrix\n",
    "        res_pred_flat = np.array(res_pred).reshape(-1)\n",
    "        res_true_flat = np.array(res_true).reshape(-1)\n",
    "\n",
    "        cm = confusion_matrix(res_true_flat,res_pred_flat)\n",
    "        cms[w,:,:] = cm\n",
    "        #plt.rcParams['figure.figsize'] = [10, 5]\n",
    "        #plt.figure\n",
    "        #imagesc(cm)\n",
    "        #pylab.savefig(name_prefix+'cm_'+str(w))\n",
    "        #plt.gcf().clear()\n",
    "\n",
    "        #print('w = ')\n",
    "        #print(w)\n",
    "        #print(cm)\n",
    "        #print(np.diag(cm)/np.sum(cm,axis=1))\n",
    "\n",
    "    print('c = ')\n",
    "    print(ch_idxs_chosen)\n",
    "\n",
    "    cms_allch[kk,:,:,:] = cms\n",
    "    kk = kk + 1"
   ]
  },
  {
   "cell_type": "code",
   "execution_count": null,
   "metadata": {},
   "outputs": [],
   "source": []
  },
  {
   "cell_type": "code",
   "execution_count": 123,
   "metadata": {},
   "outputs": [],
   "source": [
    "cms_allch[k,:,:,:] = cms"
   ]
  },
  {
   "cell_type": "code",
   "execution_count": 108,
   "metadata": {},
   "outputs": [
    {
     "data": {
      "text/plain": [
       "(20, 20, 8, 8)"
      ]
     },
     "execution_count": 108,
     "metadata": {},
     "output_type": "execute_result"
    }
   ],
   "source": [
    "cms_allch.shape"
   ]
  },
  {
   "cell_type": "code",
   "execution_count": 129,
   "metadata": {},
   "outputs": [
    {
     "data": {
      "text/plain": [
       "array([[[ 28.,  51.,  31., ..., 139.,  61.,  27.],\n",
       "        [ 62., 112.,  49., ...,  48.,  70.,  17.],\n",
       "        [ 53.,  16.,  87., ...,  19.,  76.,  93.],\n",
       "        ...,\n",
       "        [113.,  45.,  34., ..., 125.,   8.,  36.],\n",
       "        [187.,  80.,  32., ...,  20.,  71.,  33.],\n",
       "        [ 71.,  99., 106., ...,  70.,   9.,   4.]],\n",
       "\n",
       "       [[ 49.,  69.,  51., ..., 160.,   7.,  15.],\n",
       "        [ 86.,   6., 116., ...,   3.,  40.,  10.],\n",
       "        [ 32.,  86.,  94., ...,   2.,  79.,  20.],\n",
       "        ...,\n",
       "        [164.,  16.,  11., ..., 193.,   0.,  40.],\n",
       "        [ 32., 139.,  90., ...,  48.,   4.,   5.],\n",
       "        [ 37., 144., 102., ...,  50.,  62.,  11.]],\n",
       "\n",
       "       [[220., 102.,  45., ...,  25.,   0.,   6.],\n",
       "        [179.,   2.,  94., ...,  78.,  16.,  56.],\n",
       "        [ 61.,  59.,  52., ...,   8., 139.,  88.],\n",
       "        ...,\n",
       "        [128.,  53.,  58., ...,  20.,  95.,   5.],\n",
       "        [  1.,  74., 188., ...,  90.,   0., 100.],\n",
       "        [ 98.,  32., 167., ...,  11.,  74.,  48.]],\n",
       "\n",
       "       ...,\n",
       "\n",
       "       [[ 21., 293.,  21., ...,  25.,   9.,  21.],\n",
       "        [101., 129.,   0., ...,   1.,  36.,  81.],\n",
       "        [ 62.,   6.,  60., ..., 179.,  95.,  55.],\n",
       "        ...,\n",
       "        [ 65.,   3.,  84., ...,  11.,  73.,   4.],\n",
       "        [ 46.,  65.,  84., ...,  38.,   0., 130.],\n",
       "        [ 40., 153., 137., ...,  16.,  54.,  70.]],\n",
       "\n",
       "       [[  0., 129.,   0., ...,  97.,  73.,   8.],\n",
       "        [ 61.,  98.,   0., ...,  31.,  18.,  56.],\n",
       "        [ 36.,   0., 159., ...,  80.,  44.,  48.],\n",
       "        ...,\n",
       "        [ 88.,  14.,  27., ...,  29., 104.,  15.],\n",
       "        [ 31.,  57.,  34., ...,  30.,   0., 204.],\n",
       "        [ 14., 145., 132., ...,   9.,  34.,  99.]],\n",
       "\n",
       "       [[  0., 127.,   6., ...,  88.,  36.,  98.],\n",
       "        [ 30.,  75.,  20., ...,   4.,  69.,  45.],\n",
       "        [ 73.,   1., 180., ...,  25.,  83.,   1.],\n",
       "        ...,\n",
       "        [ 68.,  13.,  42., ..., 149.,  59.,  15.],\n",
       "        [ 43.,  76.,  10., ...,  68.,  12., 120.],\n",
       "        [ 16., 101., 111., ...,   6.,  95., 113.]]])"
      ]
     },
     "execution_count": 129,
     "metadata": {},
     "output_type": "execute_result"
    }
   ],
   "source": [
    "cms_allch[0]"
   ]
  },
  {
   "cell_type": "code",
   "execution_count": null,
   "metadata": {},
   "outputs": [],
   "source": []
  },
  {
   "cell_type": "code",
   "execution_count": null,
   "metadata": {},
   "outputs": [],
   "source": []
  },
  {
   "cell_type": "code",
   "execution_count": null,
   "metadata": {},
   "outputs": [],
   "source": []
  },
  {
   "cell_type": "code",
   "execution_count": null,
   "metadata": {},
   "outputs": [],
   "source": [
    "fig = plt.figure(figsize=(20,5))\n",
    "rect = fig.patch\n",
    "plt.gcf().clear()\n",
    "\n",
    "for p in range(8):\n",
    "    ax = plt.subplot(1,8,p+1, polar=True)\n",
    "\n",
    "    angles = [n*3.14/4 for n in range(8)]\n",
    "    angles += angles[:1]\n",
    "\n",
    "    cm_to_plot = np.concatenate((cm[p,:],[cm[p,0]]),axis=0)\n",
    "    cm_to_plot.shape\n",
    "\n",
    "    plt.plot(angles,cm_to_plot)\n",
    "    plt.plot([angles[p],angles[p]],[0,200],'m')\n",
    "\n",
    "    ax.set_rticks([]) \n",
    "\n",
    "    ms_into_trial = w*srate//step_div\n",
    "\n",
    "    win_flash = 128\n",
    "    if(ms_into_trial > 2048-win_flash)and(ms_into_trial < 2048+win_flash):\n",
    "        ax.set_facecolor('xkcd:mint green')\n",
    "    else:\n",
    "        ax.set_facecolor('white')\n",
    "\n",
    "if(ms_into_trial > 2048):\n",
    "    plt.suptitle(str(ms_into_trial-2048)+' ms since GO-signal')\n",
    "else:\n",
    "    plt.suptitle(str(2048-ms_into_trial)+' ms to GO-signal')\n",
    "\n",
    "pylab.savefig(name_prefix+'polar_'+str(w))\n",
    "plt.gcf().clear()"
   ]
  },
  {
   "cell_type": "code",
   "execution_count": 8,
   "metadata": {},
   "outputs": [],
   "source": [
    "acc = [np.diag(cms[i])/np.sum(cms[i],axis=1) for i in range(num_w)]"
   ]
  },
  {
   "cell_type": "code",
   "execution_count": 52,
   "metadata": {},
   "outputs": [
    {
     "data": {
      "text/plain": [
       "<matplotlib.colorbar.Colorbar at 0x7f960ce2ea90>"
      ]
     },
     "execution_count": 52,
     "metadata": {},
     "output_type": "execute_result"
    },
    {
     "data": {
      "image/png": "[encoded data removed]",
      "text/plain": [
       "<Figure size 1440x720 with 2 Axes>"
      ]
     },
     "metadata": {
      "needs_background": "light"
     },
     "output_type": "display_data"
    }
   ],
   "source": [
    "acc_np = np.array(acc)\n",
    "acc_np.shape\n",
    "\n",
    "plt.imshow(acc_np.T,extent = [0,160,0,80])\n",
    "plt.xticks(np.arange(0, 160, step=10), win_starts[::10])\n",
    "plt.axvline(2048//32,color='xkcd:aqua')\n",
    "plt.colorbar()"
   ]
  },
  {
   "cell_type": "code",
   "execution_count": null,
   "metadata": {},
   "outputs": [],
   "source": []
  }
 ],
 "metadata": {
  "kernelspec": {
   "display_name": "Python 3",
   "language": "python",
   "name": "python3"
  },
  "language_info": {
   "codemirror_mode": {
    "name": "ipython",
    "version": 3
   },
   "file_extension": ".py",
   "mimetype": "text/x-python",
   "name": "python",
   "nbconvert_exporter": "python",
   "pygments_lexer": "ipython3",
   "version": "3.6.6"
  }
 },
 "nbformat": 4,
 "nbformat_minor": 2
}
