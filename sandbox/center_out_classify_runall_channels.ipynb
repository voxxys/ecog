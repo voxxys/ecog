{
 "cells": [
  {
   "cell_type": "code",
   "execution_count": 638,
   "metadata": {},
   "outputs": [],
   "source": [
    "import numpy as np\n",
    "\n",
    "import matplotlib.pyplot as plt\n",
    "\n",
    "from sklearn.preprocessing import MinMaxScaler\n",
    "\n",
    "from scipy.io import loadmat\n",
    "\n",
    "from sklearn.model_selection import train_test_split\n",
    "from sklearn import svm\n",
    "from sklearn.neural_network import MLPRegressor\n",
    "from sklearn.model_selection import cross_val_predict\n",
    "from sklearn.metrics import r2_score\n",
    "from sklearn.svm import SVR\n",
    "from sklearn import linear_model\n",
    "\n",
    "\n",
    "from scipy import stats\n",
    "\n",
    "from sklearn.metrics import confusion_matrix\n",
    "\n",
    "import pylab\n",
    "\n",
    "import math\n",
    "\n",
    "def imagesc(x):\n",
    "    plt.imshow(x,extent = [0,1,0,1])\n",
    "\n",
    "%matplotlib inline\n",
    "plt.rcParams['figure.figsize'] = [20, 10]"
   ]
  },
  {
   "cell_type": "code",
   "execution_count": 639,
   "metadata": {},
   "outputs": [
    {
     "data": {
      "text/plain": [
       "[[0, 1, 2, 3, 4, 5],\n",
       " [6, 7, 8, 9, 10, 11],\n",
       " [12, 13, 14, 15, 16, 17],\n",
       " [18, 19, 20, 21],\n",
       " [22, 23, 24, 25, 26, 27],\n",
       " [28, 29, 30, 31, 32, 33, 34, 35],\n",
       " [36, 37, 38, 39, 40, 41],\n",
       " [41, 42, 43, 44, 45, 46, 47],\n",
       " [48, 49, 50, 51]]"
      ]
     },
     "execution_count": 639,
     "metadata": {},
     "output_type": "execute_result"
    }
   ],
   "source": [
    "# setting parameters we know about the data in advance\n",
    "\n",
    "srate = 2048\n",
    "\n",
    "# electrode stips information for plotting\n",
    "\n",
    "stripborders = [[0,5],[6,11],[12,17],[18,21],[22,27],[28,35],[36,41],[41,47],[48,51]]\n",
    "striplabels = ['Left Frontal 1','Left Frontal 2','Left Frontal 3','Left Motor', \\\n",
    "              'Right Frontal 1','Right Frontal 2','Right Frontal 3','Right Frontal 4','Right Motor']\n",
    "\n",
    "strips = [list(range(stripborders[i][0],stripborders[i][1]+1)) for i in range(len(stripborders))]\n",
    "strips"
   ]
  },
  {
   "cell_type": "code",
   "execution_count": 640,
   "metadata": {},
   "outputs": [],
   "source": [
    "# load trials data\n",
    "name_prefix = 'pol_van_co_16_left_step4herz' # to save figures\n",
    "\n",
    "matfile_path ='co_van_16_left_step4herz.mat'\n",
    "matfile = loadmat(matfile_path)\n",
    "\n",
    "ecog_trials = matfile['ecog_trials']\n",
    "feat_trials = matfile['feat_trials']\n",
    "posX_trials = matfile['posX_trials']\n",
    "posY_trials = matfile['posY_trials']\n",
    "par_trials = matfile['par_trials'][0]\n",
    "\n",
    "del matfile"
   ]
  },
  {
   "cell_type": "code",
   "execution_count": 641,
   "metadata": {},
   "outputs": [],
   "source": [
    "# choose features that will be analyzed\n",
    "\n",
    "numch_ecog = ecog_trials[0].shape[1]\n",
    "fbandmins_len = feat_trials[0].shape[1]//numch_ecog\n",
    "\n",
    "ch_idxs_motor = [18,19,20,21,48,49,50,51]\n",
    "#ch_idxs_cihosen = [0]\n",
    "ch_idxs_chosen = range(numch_ecog) #ch_idxs_motor #[ch_idxs_motor[0]]\n",
    "\n",
    "ch_idxs_all_chosen = []\n",
    "\n",
    "for c in ch_idxs_chosen:\n",
    "    feat_idxs_all = [c + numch_ecog*i for i in range(fbandmins_len)]\n",
    "    for f in feat_idxs_all:\n",
    "        ch_idxs_all_chosen.append(f)\n",
    "        \n",
    "ch_idxs_all_chosen.sort()\n",
    "#ch_idxs_all_motor = ch_idxs_all_motor[-16:]\n",
    "\n",
    "#print(ch_idxs_all_chosen)"
   ]
  },
  {
   "cell_type": "code",
   "execution_count": 620,
   "metadata": {},
   "outputs": [
    {
     "name": "stdout",
     "output_type": "stream",
     "text": [
      "[   0   64  128  192  256  320  384  448  512  576  640  704  768  832\n",
      "  896  960 1024 1088 1152 1216 1280 1344 1408 1472 1536 1600 1664 1728\n",
      " 1792 1856 1920 1984 2048 2112 2176 2240 2304 2368 2432 2496 2560 2624\n",
      " 2688 2752 2816 2880 2944 3008 3072 3136 3200 3264 3328 3392 3456 3520\n",
      " 3584 3648 3712 3776 3840 3904 3968 4032 4096 4160 4224 4288 4352 4416\n",
      " 4480 4544 4608 4672 4736 4800 4864 4928 4992 5056]\n",
      "[ 512  576  640  704  768  832  896  960 1024 1088 1152 1216 1280 1344\n",
      " 1408 1472 1536 1600 1664 1728 1792 1856 1920 1984 2048 2112 2176 2240\n",
      " 2304 2368 2432 2496 2560 2624 2688 2752 2816 2880 2944 3008 3072 3136\n",
      " 3200 3264 3328 3392 3456 3520 3584 3648 3712 3776 3840 3904 3968 4032\n",
      " 4096 4160 4224 4288 4352 4416 4480 4544 4608 4672 4736 4800 4864 4928\n",
      " 4992 5056 5120 5184 5248 5312 5376 5440 5504 5568]\n"
     ]
    }
   ],
   "source": [
    "# define moments in time that will be analyzed\n",
    "\n",
    "step_div = 32\n",
    "\n",
    "num_w = int(2.5*step_div)\n",
    "\n",
    "win_starts = np.arange(0,num_w)*srate//step_div\n",
    "print(win_starts)\n",
    "\n",
    "win_ends = win_starts + srate//4\n",
    "print(win_ends)"
   ]
  },
  {
   "cell_type": "code",
   "execution_count": 622,
   "metadata": {},
   "outputs": [],
   "source": [
    "# convert trial parameters (position on circle) to angles\n",
    "par_trials_rad = (math.pi/4)*par_trials\n",
    "par_trials_rad_sc = np.column_stack([np.sin(par_trials_rad), np.cos(par_trials_rad)])\n",
    "par_trials_sin = par_trials_rad_sc[:,0]\n",
    "par_trials_cos = par_trials_rad_sc[:,1]\n",
    "\n",
    "par_trials_rad_sc_tile = np.tile(par_trials_rad_sc,[512,1]).T.reshape([-1])"
   ]
  },
  {
   "cell_type": "code",
   "execution_count": 624,
   "metadata": {},
   "outputs": [],
   "source": [
    "# plant a fake feature encoding angle to test code below\n",
    "#for tr in range(40):\n",
    "#    feat_trials[tr][0:srate,17] = np.array([par_trials_sin[tr]]*srate)"
   ]
  },
  {
   "cell_type": "code",
   "execution_count": 635,
   "metadata": {},
   "outputs": [],
   "source": [
    "# find features that correlate with trial parameter (angle)\n",
    "\n",
    "numch_feat = feat_trials.shape[-1] \n",
    "res_ch_w = np.zeros([len(ch_idxs_all_chosen),num_w])\n",
    "\n",
    "chnum = 0\n",
    "\n",
    "par_trials_rad_sc_tile = np.tile(par_trials_rad_sc,[512,1]).T.reshape([-1])\n",
    "\n",
    "for ch in ch_idxs_all_chosen:\n",
    "\n",
    "    #print('channel ', ch)\n",
    "\n",
    "    for w in range(len(win_starts)):\n",
    "\n",
    "        feat_trials_red = [feat_trials[i][win_starts[w],ch].T for i in range(len(feat_trials))]\n",
    "        feat_trials_red = np.array(feat_trials_red)\n",
    "        #feat_trials_red = [feat_trials[i][win_ends[w],ch].T - \\\n",
    "        #                feat_trials[i][win_starts[w],ch].T for i in range(len(feat_trials))]\n",
    "        \n",
    "\n",
    "        '''\n",
    "        numit = 100\n",
    "    \n",
    "        res_true = []\n",
    "        res_pred = []\n",
    "\n",
    "        for it in range(numit):\n",
    "            X_train, X_test, y_train, y_test = train_test_split(feat_trials_red, par_trials_sin, test_size=0.2)\n",
    "\n",
    "            svr = SVR(kernel='rbf', C=1e2, gamma=0.1)\n",
    "\n",
    "            pred = svr.fit(X_train, y_train).predict(X_test)\n",
    "\n",
    "            res_pred.append(pred)\n",
    "            res_true.append(y_test)\n",
    "\n",
    "        res_pred_flat = np.array(res_pred).reshape(-1)\n",
    "        res_true_flat = np.array(res_true).reshape(-1)\n",
    "        '''\n",
    "        \n",
    "        #print(feat_trials_red.shape)\n",
    "        #print(par_trials_sin.shape)\n",
    "\n",
    "        slope, intercept, r_value_1, p_value, std_err = stats.linregress(feat_trials_red, par_trials_sin)\n",
    "        slope, intercept, r_value_2, p_value, std_err = stats.linregress(feat_trials_red, par_trials_cos)\n",
    "        \n",
    "        #r2 = r2_score(res_true_flat, res_pred_flat)\n",
    "        \n",
    "        r2 = r_value_1**2 #(r_value_1**2 + r_value_2**2)/2    #r_value_1**2 #/(1 - r_value_1**2)\n",
    "        \n",
    "        \n",
    "        #print(\"r-squared:\", round(r2,2))\n",
    "        res_ch_w[chnum,w] = r2\n",
    "        \n",
    "        \n",
    "        #print(res_true_flat)\n",
    "        #print(res_pred_flat)\n",
    "\n",
    "    chnum = chnum + 1\n",
    "    \n",
    "    "
   ]
  },
  {
   "cell_type": "code",
   "execution_count": 636,
   "metadata": {},
   "outputs": [
    {
     "data": {
      "text/plain": [
       "(52, 20, 80)"
      ]
     },
     "execution_count": 636,
     "metadata": {},
     "output_type": "execute_result"
    }
   ],
   "source": [
    "res_ch_w_re = res_ch_w.reshape([len(ch_idxs_chosen),fbandmins_len,num_w],order='F')\n",
    "\n",
    "res_ch_w_re.shape"
   ]
  },
  {
   "cell_type": "code",
   "execution_count": 637,
   "metadata": {},
   "outputs": [
    {
     "data": {
      "image/png": "[encoded data removed]",
      "text/plain": [
       "<Figure size 1080x1440 with 10 Axes>"
      ]
     },
     "metadata": {
      "needs_background": "light"
     },
     "output_type": "display_data"
    }
   ],
   "source": [
    "res_ch_w_re_maxtime = np.max(res_ch_w_re,axis=-1)\n",
    "\n",
    "\n",
    "fig, axes = plt.subplots(nrows=len(striplabels), ncols=1, figsize=(15,20))\n",
    "\n",
    "s = 0\n",
    "for ax in axes.flat:\n",
    "    figheight = len(strips[s])/2\n",
    "    im = ax.imshow(res_ch_w_re_maxtime[strips[s],:],extent = [0,5,0,0.1*figheight],vmin=0,vmax=0.9)\n",
    "    \n",
    "    s = s + 1\n",
    "    \n",
    "fig.subplots_adjust(right=0.8)\n",
    "cbar_ax = fig.add_axes([0.85, 0.15, 0.05, 0.7])\n",
    "\n",
    "fig.colorbar(im, cax=cbar_ax)\n",
    "\n",
    "plt.show()\n",
    "\n"
   ]
  },
  {
   "cell_type": "code",
   "execution_count": 481,
   "metadata": {},
   "outputs": [
    {
     "data": {
      "text/plain": [
       "(52, 20, 80)"
      ]
     },
     "execution_count": 481,
     "metadata": {},
     "output_type": "execute_result"
    }
   ],
   "source": [
    "res_ch_w_re.shape"
   ]
  },
  {
   "cell_type": "code",
   "execution_count": 398,
   "metadata": {},
   "outputs": [],
   "source": [
    "feat_trials_red_diff = [feat_trials[i][win_ends[w],ch_idxs_chosen].T - \\\n",
    "                        feat_trials[i][win_starts[w],ch_idxs_chosen].T for i in range(len(feat_trials))]\n"
   ]
  },
  {
   "cell_type": "code",
   "execution_count": 399,
   "metadata": {},
   "outputs": [
    {
     "data": {
      "text/plain": [
       "<matplotlib.colorbar.Colorbar at 0x7f9647425e48>"
      ]
     },
     "execution_count": 399,
     "metadata": {},
     "output_type": "execute_result"
    },
    {
     "data": {
      "image/png": "[encoded data removed]",
      "text/plain": [
       "<Figure size 1440x720 with 2 Axes>"
      ]
     },
     "metadata": {
      "needs_background": "light"
     },
     "output_type": "display_data"
    }
   ],
   "source": [
    "imagesc(res_ch_w[:10,:])\n",
    "plt.colorbar()"
   ]
  },
  {
   "cell_type": "code",
   "execution_count": null,
   "metadata": {},
   "outputs": [],
   "source": [
    "\n",
    "# compare\n",
    "print(r2_score(y, y_simple_pred)) # R^2 about 0.53\n",
    "print(r2_score(y, y_trig_pred))   # R^2 about 0.85\n"
   ]
  },
  {
   "cell_type": "code",
   "execution_count": 142,
   "metadata": {},
   "outputs": [
    {
     "data": {
      "text/plain": [
       "<matplotlib.colorbar.Colorbar at 0x7f960c572fd0>"
      ]
     },
     "execution_count": 142,
     "metadata": {},
     "output_type": "execute_result"
    },
    {
     "data": {
      "image/png": "[encoded data removed]",
      "text/plain": [
       "<Figure size 1440x720 with 2 Axes>"
      ]
     },
     "metadata": {
      "needs_background": "light"
     },
     "output_type": "display_data"
    }
   ],
   "source": [
    "imagesc(cms_allch[0,0,:,:]);\n",
    "plt.colorbar()"
   ]
  },
  {
   "cell_type": "code",
   "execution_count": 123,
   "metadata": {},
   "outputs": [],
   "source": [
    "cms_allch[k,:,:,:] = cms"
   ]
  },
  {
   "cell_type": "code",
   "execution_count": 108,
   "metadata": {},
   "outputs": [
    {
     "data": {
      "text/plain": [
       "(20, 20, 8, 8)"
      ]
     },
     "execution_count": 108,
     "metadata": {},
     "output_type": "execute_result"
    }
   ],
   "source": [
    "cms_allch.shape"
   ]
  },
  {
   "cell_type": "code",
   "execution_count": 129,
   "metadata": {},
   "outputs": [
    {
     "data": {
      "text/plain": [
       "array([[[ 28.,  51.,  31., ..., 139.,  61.,  27.],\n",
       "        [ 62., 112.,  49., ...,  48.,  70.,  17.],\n",
       "        [ 53.,  16.,  87., ...,  19.,  76.,  93.],\n",
       "        ...,\n",
       "        [113.,  45.,  34., ..., 125.,   8.,  36.],\n",
       "        [187.,  80.,  32., ...,  20.,  71.,  33.],\n",
       "        [ 71.,  99., 106., ...,  70.,   9.,   4.]],\n",
       "\n",
       "       [[ 49.,  69.,  51., ..., 160.,   7.,  15.],\n",
       "        [ 86.,   6., 116., ...,   3.,  40.,  10.],\n",
       "        [ 32.,  86.,  94., ...,   2.,  79.,  20.],\n",
       "        ...,\n",
       "        [164.,  16.,  11., ..., 193.,   0.,  40.],\n",
       "        [ 32., 139.,  90., ...,  48.,   4.,   5.],\n",
       "        [ 37., 144., 102., ...,  50.,  62.,  11.]],\n",
       "\n",
       "       [[220., 102.,  45., ...,  25.,   0.,   6.],\n",
       "        [179.,   2.,  94., ...,  78.,  16.,  56.],\n",
       "        [ 61.,  59.,  52., ...,   8., 139.,  88.],\n",
       "        ...,\n",
       "        [128.,  53.,  58., ...,  20.,  95.,   5.],\n",
       "        [  1.,  74., 188., ...,  90.,   0., 100.],\n",
       "        [ 98.,  32., 167., ...,  11.,  74.,  48.]],\n",
       "\n",
       "       ...,\n",
       "\n",
       "       [[ 21., 293.,  21., ...,  25.,   9.,  21.],\n",
       "        [101., 129.,   0., ...,   1.,  36.,  81.],\n",
       "        [ 62.,   6.,  60., ..., 179.,  95.,  55.],\n",
       "        ...,\n",
       "        [ 65.,   3.,  84., ...,  11.,  73.,   4.],\n",
       "        [ 46.,  65.,  84., ...,  38.,   0., 130.],\n",
       "        [ 40., 153., 137., ...,  16.,  54.,  70.]],\n",
       "\n",
       "       [[  0., 129.,   0., ...,  97.,  73.,   8.],\n",
       "        [ 61.,  98.,   0., ...,  31.,  18.,  56.],\n",
       "        [ 36.,   0., 159., ...,  80.,  44.,  48.],\n",
       "        ...,\n",
       "        [ 88.,  14.,  27., ...,  29., 104.,  15.],\n",
       "        [ 31.,  57.,  34., ...,  30.,   0., 204.],\n",
       "        [ 14., 145., 132., ...,   9.,  34.,  99.]],\n",
       "\n",
       "       [[  0., 127.,   6., ...,  88.,  36.,  98.],\n",
       "        [ 30.,  75.,  20., ...,   4.,  69.,  45.],\n",
       "        [ 73.,   1., 180., ...,  25.,  83.,   1.],\n",
       "        ...,\n",
       "        [ 68.,  13.,  42., ..., 149.,  59.,  15.],\n",
       "        [ 43.,  76.,  10., ...,  68.,  12., 120.],\n",
       "        [ 16., 101., 111., ...,   6.,  95., 113.]]])"
      ]
     },
     "execution_count": 129,
     "metadata": {},
     "output_type": "execute_result"
    }
   ],
   "source": [
    "cms_allch[0]"
   ]
  },
  {
   "cell_type": "code",
   "execution_count": null,
   "metadata": {},
   "outputs": [],
   "source": []
  },
  {
   "cell_type": "code",
   "execution_count": null,
   "metadata": {},
   "outputs": [],
   "source": []
  },
  {
   "cell_type": "code",
   "execution_count": null,
   "metadata": {},
   "outputs": [],
   "source": []
  },
  {
   "cell_type": "code",
   "execution_count": null,
   "metadata": {},
   "outputs": [],
   "source": [
    "fig = plt.figure(figsize=(20,5))\n",
    "rect = fig.patch\n",
    "plt.gcf().clear()\n",
    "\n",
    "for p in range(8):\n",
    "    ax = plt.subplot(1,8,p+1, polar=True)\n",
    "\n",
    "    angles = [n*3.14/4 for n in range(8)]\n",
    "    angles += angles[:1]\n",
    "\n",
    "    cm_to_plot = np.concatenate((cm[p,:],[cm[p,0]]),axis=0)\n",
    "    cm_to_plot.shape\n",
    "\n",
    "    plt.plot(angles,cm_to_plot)\n",
    "    plt.plot([angles[p],angles[p]],[0,200],'m')\n",
    "\n",
    "    ax.set_rticks([]) \n",
    "\n",
    "    ms_into_trial = w*srate//step_div\n",
    "\n",
    "    win_flash = 128\n",
    "    if(ms_into_trial > 2048-win_flash)and(ms_into_trial < 2048+win_flash):\n",
    "        ax.set_facecolor('xkcd:mint green')\n",
    "    else:\n",
    "        ax.set_facecolor('white')\n",
    "\n",
    "if(ms_into_trial > 2048):\n",
    "    plt.suptitle(str(ms_into_trial-2048)+' ms since GO-signal')\n",
    "else:\n",
    "    plt.suptitle(str(2048-ms_into_trial)+' ms to GO-signal')\n",
    "\n",
    "pylab.savefig(name_prefix+'polar_'+str(w))\n",
    "plt.gcf().clear()"
   ]
  },
  {
   "cell_type": "code",
   "execution_count": 8,
   "metadata": {},
   "outputs": [],
   "source": [
    "acc = [np.diag(cms[i])/np.sum(cms[i],axis=1) for i in range(num_w)]"
   ]
  },
  {
   "cell_type": "code",
   "execution_count": 52,
   "metadata": {},
   "outputs": [
    {
     "data": {
      "text/plain": [
       "<matplotlib.colorbar.Colorbar at 0x7f960ce2ea90>"
      ]
     },
     "execution_count": 52,
     "metadata": {},
     "output_type": "execute_result"
    },
    {
     "data": {
      "image/png": "[encoded data removed]",
      "text/plain": [
       "<Figure size 1440x720 with 2 Axes>"
      ]
     },
     "metadata": {
      "needs_background": "light"
     },
     "output_type": "display_data"
    }
   ],
   "source": [
    "acc_np = np.array(acc)\n",
    "acc_np.shape\n",
    "\n",
    "plt.imshow(acc_np.T,extent = [0,160,0,80])\n",
    "plt.xticks(np.arange(0, 160, step=10), win_starts[::10])\n",
    "plt.axvline(2048//32,color='xkcd:aqua')\n",
    "plt.colorbar()"
   ]
  },
  {
   "cell_type": "code",
   "execution_count": null,
   "metadata": {},
   "outputs": [],
   "source": []
  }
 ],
 "metadata": {
  "kernelspec": {
   "display_name": "Python 3",
   "language": "python",
   "name": "python3"
  },
  "language_info": {
   "codemirror_mode": {
    "name": "ipython",
    "version": 3
   },
   "file_extension": ".py",
   "mimetype": "text/x-python",
   "name": "python",
   "nbconvert_exporter": "python",
   "pygments_lexer": "ipython3",
   "version": "3.6.6"
  }
 },
 "nbformat": 4,
 "nbformat_minor": 2
}
